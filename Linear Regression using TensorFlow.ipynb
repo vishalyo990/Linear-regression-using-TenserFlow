{
 "cells": [
  {
   "cell_type": "code",
   "execution_count": 8,
   "metadata": {},
   "outputs": [],
   "source": [
    "import tensorflow as tf"
   ]
  },
  {
   "cell_type": "code",
   "execution_count": 40,
   "metadata": {},
   "outputs": [],
   "source": [
    "from __future__ import print_function\n",
    "import numpy as np\n",
    "import matplotlib.pyplot as plt\n",
    "rng = numpy.random\n"
   ]
  },
  {
   "cell_type": "code",
   "execution_count": 41,
   "metadata": {},
   "outputs": [],
   "source": [
    "learning_rate = 0.01\n",
    "training_epochs = 1000\n",
    "display_step = 50"
   ]
  },
  {
   "cell_type": "code",
   "execution_count": 42,
   "metadata": {},
   "outputs": [],
   "source": [
    "train_X = numpy.asarray([3.3,4.4,5.5,6.71,6.93,4.168,9.779,6.182,7.59,2.167,\n",
    "                         7.042,10.791,5.313,7.997,5.654,9.27,3.1])\n",
    "train_Y = numpy.asarray([1.7,2.76,2.09,3.19,1.694,1.573,3.366,2.596,2.53,1.221,\n",
    "                         2.827,3.465,1.65,2.904,2.42,2.94,1.3])\n",
    "n_samples = train_X.shape[0]"
   ]
  },
  {
   "cell_type": "code",
   "execution_count": 43,
   "metadata": {},
   "outputs": [],
   "source": [
    "X = tf.placeholder(\"float\")\n",
    "Y = tf.placeholder(\"float\")"
   ]
  },
  {
   "cell_type": "code",
   "execution_count": 44,
   "metadata": {},
   "outputs": [],
   "source": [
    "W = tf.Variable(rng.randn(), name=\"weight\")\n",
    "b = tf.Variable(rng.randn(), name=\"bias\")\n"
   ]
  },
  {
   "cell_type": "code",
   "execution_count": 45,
   "metadata": {},
   "outputs": [],
   "source": [
    "pred = tf.add(tf.multiply(X, W), b)"
   ]
  },
  {
   "cell_type": "code",
   "execution_count": 46,
   "metadata": {},
   "outputs": [],
   "source": [
    "cost = tf.reduce_sum(tf.pow(pred-Y, 2))/(2*n_samples)\n",
    "optimizer = tf.train.GradientDescentOptimizer(learning_rate).minimize(cost)"
   ]
  },
  {
   "cell_type": "code",
   "execution_count": 35,
   "metadata": {},
   "outputs": [],
   "source": [
    "init = tf.initialize_all_variables()"
   ]
  },
  {
   "cell_type": "code",
   "execution_count": 47,
   "metadata": {
    "scrolled": true
   },
   "outputs": [],
   "source": [
    "init = tf.global_variables_initializer()\n"
   ]
  },
  {
   "cell_type": "code",
   "execution_count": 48,
   "metadata": {},
   "outputs": [
    {
     "name": "stdout",
     "output_type": "stream",
     "text": [
      "Epoch: 0050 cost= 0.329749823 W= 0.530592 b= -1.22001\n",
      "Epoch: 0100 cost= 0.300555050 W= 0.513879 b= -1.09979\n",
      "Epoch: 0150 cost= 0.274730951 W= 0.498161 b= -0.986711\n",
      "Epoch: 0200 cost= 0.251888633 W= 0.483378 b= -0.88036\n",
      "Epoch: 0250 cost= 0.231683791 W= 0.469473 b= -0.780333\n",
      "Epoch: 0300 cost= 0.213812009 W= 0.456396 b= -0.686257\n",
      "Epoch: 0350 cost= 0.198003769 W= 0.444096 b= -0.597774\n",
      "Epoch: 0400 cost= 0.184021249 W= 0.432529 b= -0.514555\n",
      "Epoch: 0450 cost= 0.171653330 W= 0.421649 b= -0.436285\n",
      "Epoch: 0500 cost= 0.160713807 W= 0.411416 b= -0.36267\n",
      "Epoch: 0550 cost= 0.151037544 W= 0.401791 b= -0.293433\n",
      "Epoch: 0600 cost= 0.142478988 W= 0.392739 b= -0.228314\n",
      "Epoch: 0650 cost= 0.134908900 W= 0.384226 b= -0.167068\n",
      "Epoch: 0700 cost= 0.128213212 W= 0.376219 b= -0.109465\n",
      "Epoch: 0750 cost= 0.122290932 W= 0.368688 b= -0.0552877\n",
      "Epoch: 0800 cost= 0.117052786 W= 0.361605 b= -0.00433246\n",
      "Epoch: 0850 cost= 0.112419792 W= 0.354943 b= 0.0435922\n",
      "Epoch: 0900 cost= 0.108322076 W= 0.348677 b= 0.0886665\n",
      "Epoch: 0950 cost= 0.104697771 W= 0.342784 b= 0.13106\n",
      "Epoch: 1000 cost= 0.101492241 W= 0.337242 b= 0.170933\n",
      "Optimization Finished!\n",
      "Training cost= 0.101492 W= 0.337242 b= 0.170933 \n",
      "\n"
     ]
    },
    {
     "data": {
      "image/png": "[encoded data removed]",
      "text/plain": [
       "<matplotlib.figure.Figure at 0xb596f88780>"
      ]
     },
     "metadata": {},
     "output_type": "display_data"
    }
   ],
   "source": [
    "with tf.Session() as sess:\n",
    "                sess.run(init)\n",
    "\n",
    "   \n",
    "    for epoch in range(training_epochs):\n",
    "        for (x, y) in zip(train_X, train_Y):\n",
    "            sess.run(optimizer, feed_dict={X: x, Y: y})\n",
    "\n",
    "        \n",
    "        if (epoch+1) % display_step == 0:\n",
    "            c = sess.run(cost, feed_dict={X: train_X, Y:train_Y})\n",
    "            print(\"Epoch:\", '%04d' % (epoch+1), \"cost=\", \"{:.9f}\".format(c), \\\n",
    "                \"W=\", sess.run(W), \"b=\", sess.run(b))\n",
    "\n",
    "    print(\"Optimization Finished!\")\n",
    "    training_cost = sess.run(cost, feed_dict={X: train_X, Y: train_Y})\n",
    "    print(\"Training cost=\", training_cost, \"W=\", sess.run(W), \"b=\", sess.run(b), '\\n')\n",
    "\n",
    "    \n",
    "    plt.plot(train_X, train_Y, 'ro', label='Original data')\n",
    "    plt.plot(train_X, sess.run(W) * train_X + sess.run(b), label='Fitted line')\n",
    "    plt.legend()\n",
    "    plt.show()"
   ]
  },
  {
   "cell_type": "code",
   "execution_count": null,
   "metadata": {},
   "outputs": [],
   "source": []
  }
 ],
 "metadata": {
  "kernelspec": {
   "display_name": "Python 3",
   "language": "python",
   "name": "python3"
  },
  "language_info": {
   "codemirror_mode": {
    "name": "ipython",
    "version": 3
   },
   "file_extension": ".py",
   "mimetype": "text/x-python",
   "name": "python",
   "nbconvert_exporter": "python",
   "pygments_lexer": "ipython3",
   "version": "3.5.4"
  }
 },
 "nbformat": 4,
 "nbformat_minor": 2
}
